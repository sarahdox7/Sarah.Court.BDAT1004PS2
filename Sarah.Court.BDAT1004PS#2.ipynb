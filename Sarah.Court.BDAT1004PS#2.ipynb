{
 "cells": [
  {
   "cell_type": "markdown",
   "metadata": {},
   "source": [
    "## Question 1\n",
    "\n",
    "What value is displayed when the last expression (a) is evaluated? Explain your\n",
    "answer by indicating what happens in every executed statement."
   ]
  },
  {
   "cell_type": "code",
   "execution_count": 23,
   "metadata": {},
   "outputs": [
    {
     "name": "stdout",
     "output_type": "stream",
     "text": [
      "None\n",
      "None\n",
      "None\n",
      "6\n"
     ]
    }
   ],
   "source": [
    "a = 0  #has global scope\n",
    "\n",
    "def b():\n",
    "    global a  #all ref to a inside function b are to the global a\n",
    "    a = c(a) #global a is changed & now   global a =  c*local scope a\n",
    "    \n",
    "def c(a): #this a is local to function c\n",
    "    return a + 2 #local scope a + 2\n",
    "\n",
    "print(b())\n",
    "print(b())\n",
    "print(b())\n",
    "print(a) #global a's new value\n"
   ]
  },
  {
   "cell_type": "markdown",
   "metadata": {},
   "source": [
    "***function calls namespace, global & local scopes, & program stack, week 4 lecture:***\n",
    "\n",
    "\n",
    "\n",
    "global a = 0, and under function b()'s definintion global a = c(a)\n",
    "\n",
    "b() was called 3 times and the result returns 'none' each time because anything multiplied by 0 equals 0:\n",
    "\n",
    "    1.) returns 'none' because global a = 0\n",
    "          (& value for c(local a) is 'remembered' by the program stack for function c(a), because this a is local to function)\n",
    "        \n",
    "    2.) returns 'none' because global a = 0\n",
    "          (& value for c(local a) is 'remembered' and then added to the program stack for c(a))\n",
    "            \n",
    "    3.) returns 'none' because global a = 0\n",
    "          (& value for c(local a) is 'remembered' and then added to the program stack for c(a))\n",
    "            \n",
    "\n",
    "When a is called afterward, the number '6' is returned as the result of the program stack accumulating the values with each call & due to the order of operations which python searches for information\n",
    "(function \"c(a) = local a + 2\" was implemented each time b() was called & the program stack remembered, then accumulated the values):\n",
    "\n",
    "   -1.) b = (a = c(a)) where  c(a) = a*2 = 0  and   c = 0 + 2 = 2\n",
    "   -2.) b = (a = c(a)) where  c(a) = a*2 = 0  and   c = 2 + 2 = 4\n",
    "   -3.) b = (a = c(a)) where  c(a) = a*2 = 0  and   c = 4 + 2 = 6\n"
   ]
  },
  {
   "cell_type": "code",
   "execution_count": null,
   "metadata": {},
   "outputs": [],
   "source": []
  },
  {
   "cell_type": "markdown",
   "metadata": {},
   "source": [
    "## Question 2\n",
    "\n",
    "Function fileLength(), given to you, takes the name of a file as input and returns the length of the file.\n",
    "\n",
    "If the file cannot be found by the interpreter or if it cannot be read\n",
    "as a text file, an exception will be raised. Modify function fileLength() so that a friendly message is printed instead."
   ]
  },
  {
   "cell_type": "markdown",
   "metadata": {},
   "source": [
    "****displaying the error before correction****"
   ]
  },
  {
   "cell_type": "code",
   "execution_count": 32,
   "metadata": {},
   "outputs": [
    {
     "name": "stdout",
     "output_type": "stream",
     "text": [
      "328\n"
     ]
    }
   ],
   "source": [
    "#original given function: \n",
    "\n",
    "def fileLength(file_name):\n",
    "    file = open(file_name)\n",
    "    contents = file.read()\n",
    "    file.close()\n",
    "    print(len(contents))\n",
    "\n",
    "fileLength('midterm.py')\n"
   ]
  },
  {
   "cell_type": "code",
   "execution_count": 33,
   "metadata": {
    "scrolled": true
   },
   "outputs": [
    {
     "ename": "FileNotFoundError",
     "evalue": "[Errno 2] No such file or directory: 'idterm.py'",
     "output_type": "error",
     "traceback": [
      "\u001b[1;31m---------------------------------------------------------------------------\u001b[0m",
      "\u001b[1;31mFileNotFoundError\u001b[0m                         Traceback (most recent call last)",
      "\u001b[1;32m<ipython-input-33-115b1847304a>\u001b[0m in \u001b[0;36m<module>\u001b[1;34m\u001b[0m\n\u001b[1;32m----> 1\u001b[1;33m \u001b[0mfileLength\u001b[0m\u001b[1;33m(\u001b[0m\u001b[1;34m'idterm.py'\u001b[0m\u001b[1;33m)\u001b[0m\u001b[1;33m\u001b[0m\u001b[1;33m\u001b[0m\u001b[0m\n\u001b[0m",
      "\u001b[1;32m<ipython-input-32-34144184eea6>\u001b[0m in \u001b[0;36mfileLength\u001b[1;34m(file_name)\u001b[0m\n\u001b[0;32m      1\u001b[0m \u001b[1;32mdef\u001b[0m \u001b[0mfileLength\u001b[0m\u001b[1;33m(\u001b[0m\u001b[0mfile_name\u001b[0m\u001b[1;33m)\u001b[0m\u001b[1;33m:\u001b[0m\u001b[1;33m\u001b[0m\u001b[1;33m\u001b[0m\u001b[0m\n\u001b[1;32m----> 2\u001b[1;33m     \u001b[0mfile\u001b[0m \u001b[1;33m=\u001b[0m \u001b[0mopen\u001b[0m\u001b[1;33m(\u001b[0m\u001b[0mfile_name\u001b[0m\u001b[1;33m)\u001b[0m\u001b[1;33m\u001b[0m\u001b[1;33m\u001b[0m\u001b[0m\n\u001b[0m\u001b[0;32m      3\u001b[0m     \u001b[0mcontents\u001b[0m \u001b[1;33m=\u001b[0m \u001b[0mfile\u001b[0m\u001b[1;33m.\u001b[0m\u001b[0mread\u001b[0m\u001b[1;33m(\u001b[0m\u001b[1;33m)\u001b[0m\u001b[1;33m\u001b[0m\u001b[1;33m\u001b[0m\u001b[0m\n\u001b[0;32m      4\u001b[0m     \u001b[0mfile\u001b[0m\u001b[1;33m.\u001b[0m\u001b[0mclose\u001b[0m\u001b[1;33m(\u001b[0m\u001b[1;33m)\u001b[0m\u001b[1;33m\u001b[0m\u001b[1;33m\u001b[0m\u001b[0m\n\u001b[0;32m      5\u001b[0m     \u001b[0mprint\u001b[0m\u001b[1;33m(\u001b[0m\u001b[0mlen\u001b[0m\u001b[1;33m(\u001b[0m\u001b[0mcontents\u001b[0m\u001b[1;33m)\u001b[0m\u001b[1;33m)\u001b[0m\u001b[1;33m\u001b[0m\u001b[1;33m\u001b[0m\u001b[0m\n",
      "\u001b[1;31mFileNotFoundError\u001b[0m: [Errno 2] No such file or directory: 'idterm.py'"
     ]
    }
   ],
   "source": [
    "#display the eorror before function correction:\n",
    "\n",
    "fileLength('idterm.py')\n"
   ]
  },
  {
   "cell_type": "markdown",
   "metadata": {},
   "source": [
    "****function correction****"
   ]
  },
  {
   "cell_type": "code",
   "execution_count": 58,
   "metadata": {},
   "outputs": [
    {
     "name": "stdout",
     "output_type": "stream",
     "text": [
      "File idterm.py not found.\n"
     ]
    }
   ],
   "source": [
    "#function Correction:\n",
    "\n",
    "def fileLength(file_name):\n",
    "    try:\n",
    "        file = open(file_name)\n",
    "        contents = file.read()\n",
    "        file.close()\n",
    "        print(len(contents))\n",
    "        \n",
    "    except FileNotFoundError:\n",
    "        print(\"File\", format(file_name), \"not found.\")\n",
    "\n",
    "\n",
    "fileLength('idterm.py')"
   ]
  },
  {
   "cell_type": "markdown",
   "metadata": {},
   "source": [
    "## Question 3\n",
    "\n",
    "Write a class named Marsupial that can be used as shown (in ps instructions)"
   ]
  },
  {
   "cell_type": "code",
   "execution_count": 179,
   "metadata": {},
   "outputs": [],
   "source": [
    "#create class Marsupial\n",
    "\n",
    "class Marsupial:\n",
    "    'represents an animal that holds contents in its pouch'\n",
    "\n",
    "    pouch_contents = []\n",
    "    \n",
    "    def __init__(self):\n",
    "        'initialize Marsupial functions'\n",
    "        self.pouch_contents = pouch_contents\n",
    "        for contents in pouch_contents:\n",
    "            input = self.obj\n",
    "            self.put_in_pouch = self.pouch_contents.append(self.obj)\n",
    "                \n",
    "    def pouch_contents(self):\n",
    "        'returns list of objects held in pouch'\n",
    "        print(self.pouch_contents)\n",
    "        \n",
    "    def put_in_pouch(self, obj):\n",
    "        'adds contents to pouch list'\n",
    "        self.put_in_pouch = put_in_pouch\n",
    "\n",
    "        \n",
    "        \n"
   ]
  },
  {
   "cell_type": "code",
   "execution_count": 180,
   "metadata": {},
   "outputs": [
    {
     "ename": "TypeError",
     "evalue": "'function' object is not iterable",
     "output_type": "error",
     "traceback": [
      "\u001b[1;31m---------------------------------------------------------------------------\u001b[0m",
      "\u001b[1;31mTypeError\u001b[0m                                 Traceback (most recent call last)",
      "\u001b[1;32m<ipython-input-180-14e59ae2f901>\u001b[0m in \u001b[0;36m<module>\u001b[1;34m\u001b[0m\n\u001b[1;32m----> 1\u001b[1;33m \u001b[0mm\u001b[0m \u001b[1;33m=\u001b[0m \u001b[0mMarsupial\u001b[0m\u001b[1;33m(\u001b[0m\u001b[1;33m)\u001b[0m\u001b[1;33m\u001b[0m\u001b[1;33m\u001b[0m\u001b[0m\n\u001b[0m\u001b[0;32m      2\u001b[0m \u001b[0mm\u001b[0m\u001b[1;33m.\u001b[0m\u001b[0mput_in_pouch\u001b[0m\u001b[1;33m(\u001b[0m\u001b[1;34m'doll'\u001b[0m\u001b[1;33m)\u001b[0m\u001b[1;33m\u001b[0m\u001b[1;33m\u001b[0m\u001b[0m\n\u001b[0;32m      3\u001b[0m \u001b[0mm\u001b[0m\u001b[1;33m.\u001b[0m\u001b[0mput_in_pouch\u001b[0m\u001b[1;33m(\u001b[0m\u001b[1;34m'firetruck'\u001b[0m\u001b[1;33m)\u001b[0m\u001b[1;33m\u001b[0m\u001b[1;33m\u001b[0m\u001b[0m\n\u001b[0;32m      4\u001b[0m \u001b[0mm\u001b[0m\u001b[1;33m.\u001b[0m\u001b[0mput_in_pouch\u001b[0m\u001b[1;33m(\u001b[0m\u001b[1;34m'kitten'\u001b[0m\u001b[1;33m)\u001b[0m\u001b[1;33m\u001b[0m\u001b[1;33m\u001b[0m\u001b[0m\n\u001b[0;32m      5\u001b[0m \u001b[0mm\u001b[0m\u001b[1;33m.\u001b[0m\u001b[0mpouch_contents\u001b[0m\u001b[1;33m(\u001b[0m\u001b[1;33m)\u001b[0m\u001b[1;33m\u001b[0m\u001b[1;33m\u001b[0m\u001b[0m\n",
      "\u001b[1;32m<ipython-input-179-7b27532db39f>\u001b[0m in \u001b[0;36m__init__\u001b[1;34m(self)\u001b[0m\n\u001b[0;32m      9\u001b[0m         \u001b[1;34m'initialize Marsupial functions'\u001b[0m\u001b[1;33m\u001b[0m\u001b[1;33m\u001b[0m\u001b[0m\n\u001b[0;32m     10\u001b[0m         \u001b[0mself\u001b[0m\u001b[1;33m.\u001b[0m\u001b[0mpouch_contents\u001b[0m \u001b[1;33m=\u001b[0m \u001b[0mpouch_contents\u001b[0m\u001b[1;33m\u001b[0m\u001b[1;33m\u001b[0m\u001b[0m\n\u001b[1;32m---> 11\u001b[1;33m         \u001b[1;32mfor\u001b[0m \u001b[0mcontents\u001b[0m \u001b[1;32min\u001b[0m \u001b[0mpouch_contents\u001b[0m\u001b[1;33m:\u001b[0m\u001b[1;33m\u001b[0m\u001b[1;33m\u001b[0m\u001b[0m\n\u001b[0m\u001b[0;32m     12\u001b[0m             \u001b[0minput\u001b[0m \u001b[1;33m=\u001b[0m \u001b[0mself\u001b[0m\u001b[1;33m.\u001b[0m\u001b[0mobj\u001b[0m\u001b[1;33m\u001b[0m\u001b[1;33m\u001b[0m\u001b[0m\n\u001b[0;32m     13\u001b[0m             \u001b[0mself\u001b[0m\u001b[1;33m.\u001b[0m\u001b[0mput_in_pouch\u001b[0m \u001b[1;33m=\u001b[0m \u001b[0mself\u001b[0m\u001b[1;33m.\u001b[0m\u001b[0mpouch_contents\u001b[0m\u001b[1;33m.\u001b[0m\u001b[0mappend\u001b[0m\u001b[1;33m(\u001b[0m\u001b[0mself\u001b[0m\u001b[1;33m.\u001b[0m\u001b[0mobj\u001b[0m\u001b[1;33m)\u001b[0m\u001b[1;33m\u001b[0m\u001b[1;33m\u001b[0m\u001b[0m\n",
      "\u001b[1;31mTypeError\u001b[0m: 'function' object is not iterable"
     ]
    }
   ],
   "source": [
    "m = Marsupial()\n",
    "m.put_in_pouch('doll')\n",
    "m.put_in_pouch('firetruck')\n",
    "m.put_in_pouch('kitten')\n",
    "m.pouch_contents()\n"
   ]
  },
  {
   "cell_type": "code",
   "execution_count": null,
   "metadata": {},
   "outputs": [],
   "source": [
    "\n",
    "    "
   ]
  },
  {
   "cell_type": "markdown",
   "metadata": {},
   "source": [
    "**Now write a class named Kangaroo as a subclass of Marsupial that inherits all the attributes of Marsupial and also:**"
   ]
  },
  {
   "cell_type": "markdown",
   "metadata": {},
   "source": [
    "## Question 3a\n",
    "\n",
    "extends the Marsupial __init__ constructor to take, as input, the\n",
    "coordinates x and y of the Kangaroo object"
   ]
  },
  {
   "cell_type": "code",
   "execution_count": null,
   "metadata": {},
   "outputs": [],
   "source": []
  },
  {
   "cell_type": "markdown",
   "metadata": {},
   "source": [
    "## Question 3b\n",
    "\n",
    "supports method jump that takes number values dx and dy as input and moves the kangaroo by dx units along the x-axis and by dy units along the y-axis"
   ]
  },
  {
   "cell_type": "code",
   "execution_count": null,
   "metadata": {},
   "outputs": [],
   "source": []
  },
  {
   "cell_type": "markdown",
   "metadata": {},
   "source": [
    "## Question 3c\n",
    "\n",
    "overloads the __str__ operator so it behaves as shown (in ps instructions)"
   ]
  },
  {
   "cell_type": "code",
   "execution_count": null,
   "metadata": {},
   "outputs": [],
   "source": []
  },
  {
   "cell_type": "code",
   "execution_count": null,
   "metadata": {},
   "outputs": [],
   "source": []
  },
  {
   "cell_type": "markdown",
   "metadata": {},
   "source": [
    "## Question 4\n",
    "\n",
    "Implement a new GUI class App that combines user-defined tkinter widget classes\n",
    "Calculator and Mortgage displayed below: (This question can be done using a\n",
    ".py file)"
   ]
  },
  {
   "cell_type": "code",
   "execution_count": 181,
   "metadata": {},
   "outputs": [],
   "source": [
    "#Note to Ethan:  Mortgage turned out okay, had issues with calculator\n",
    "#I apologize for all of the popups lol\n",
    "\n",
    "\n",
    "\n",
    "from tkinter import Tk, Frame\n",
    "\n",
    "root = Tk()\n",
    "\n",
    "\n",
    "#created class Calculator for GUI\n",
    "#press buttons on calculator to input numbers to display box\n",
    "\n",
    "class Calculator(Frame):\n",
    "    'calculator function - used with mortgage, to compute mortgage'\n",
    "    \n",
    "    from tkinter import Tk, Text, RAISED, Button, Entry\n",
    "    \n",
    "    def __init__(self, master):\n",
    "        Frame.__init__(self, master)\n",
    "        box = Frame(root)\n",
    "        \n",
    "        self.numEnt = Entry(self)\n",
    "        self.numEnt.grid(row=0, column=3, columnspan=4)\n",
    "        \n",
    "        button = Button(root,\n",
    "                        padx=10,\n",
    "                        relief=RAISED,\n",
    "                        text=buttons[r][c],\n",
    "                        command=enter)\n",
    "        button.grid(row=r, column=c)\n",
    "\n",
    "\n",
    "   \n",
    "    def enter(self, master):\n",
    "        'functions as a calculator screen to display numbers entered by user'\n",
    "        global numEnt\n",
    "        num = self.numEnt.get()\n",
    "        numEnt = Entry(self.numEnt.get())\n",
    "\n",
    "    \n",
    "    def record(self, master):\n",
    "        'event handling function to record user keypress events'\n",
    "        print('char = {}'.format(text.keysym)) #print key symbol\n",
    "    \n",
    "    \n",
    "    def clear(self, master):\n",
    "        global numEnt\n",
    "        self.numEnt.delete(0, END)\n",
    "    \n",
    "    \n",
    "    root = Tk()\n",
    "    \n",
    "    text = Text(root,\n",
    "                width=20,\n",
    "                height=1)\n",
    "    text.bind('<KeyPress>', record)\n",
    "    text.grid(row=0, column=3, columnspan=4)\n",
    "    \n",
    "    \n",
    "    \n",
    "    buttons = [['MC', 'M+', 'M-', 'MR'],\n",
    "              ['C', '√', 'x²', '+'],\n",
    "              ['7', '8', '9', '-'],\n",
    "              ['4', '5', '6', '*'],\n",
    "              ['1', '2', '3', '/'],\n",
    "              ['0','.', '+-', '=']]\n",
    "    \n",
    "    for r in range(6):\n",
    "        for c in range(4):\n",
    "\n",
    "            button = Button(root,\n",
    "                            padx=10,\n",
    "                            relief=RAISED,\n",
    "                            text=buttons[r][c],\n",
    "                            command=enter)\n",
    "            button.grid(row=r, column=c)\n",
    "\n",
    "root = Tk()\n",
    "        \n",
    "\n",
    "        \n",
    "#created class Mortgage for GUI\n",
    "\n",
    "class Mortgage(Frame):\n",
    "    'takes input from calulator and computes mortgage based on calculator input'\n",
    "\n",
    "    from tkinter import Tk, Label, Button, Entry, END\n",
    "    \n",
    "    \n",
    "    def __init__(self, master):\n",
    "        Frame.__init__(self)\n",
    "        box = Frame(root)\n",
    "\n",
    "        \n",
    "        label1 = Label(self, text='Loan Amount:')\n",
    "        label.grid(row=1, column=0)\n",
    "        self.disEnt = Entry(self)\n",
    "        self.disEnt.grid(row=1, column=1, columnspan=2)\n",
    "       \n",
    "        label2 = Label(self, text='Interest Rate:')\n",
    "        label.grid(row=2, column=0)\n",
    "        self.disEnt = Entry(self)\n",
    "        self.disEnt.grid(row=2, column=1, columnspan=2)\n",
    "        \n",
    "        label3 = Label(self, text='Loan Terms:')\n",
    "        label.grid(row=3, column=0)\n",
    "        self.disEnt = Entry(self)\n",
    "        self.disEnt.grid(row=3, column=1, columnspan=2)\n",
    "        \n",
    "        \n",
    "        button = Button(self,\n",
    "                        text='Compute Mortgage',\n",
    "                        command=self.compute)\n",
    "        button.grid(row=4, column=0, columnspan=2)\n",
    "        \n",
    "        \n",
    "        \n",
    "    def compute(self, master):\n",
    "        global disEnt\n",
    "        dis = self.disEnt.get(display)\n",
    "        self.disEnt.insert(0,)\n",
    "        \n",
    "    def update(self, master):\n",
    "        global disEnt\n",
    "        self.disEnt.delete(0, END)\n",
    "\n",
    "    root = Tk()\n",
    "    \n",
    "    label1 = Label(root, text='Loan Amount:')\n",
    "    label1.grid(row=1, column=0)\n",
    "    numEnt = Entry(root)\n",
    "    numEnt.grid(row=1, column=1, columnspan=2)\n",
    "\n",
    "    label2 = Label(root, text='Interest Rate:')\n",
    "    label2.grid(row=2, column=0)\n",
    "    numEnt = Entry(root)\n",
    "    numEnt.grid(row=2, column=1, columnspan=2)\n",
    "\n",
    "    label3 = Label(root, text='Loan Terms:')\n",
    "    label3.grid(row=3, column=0)\n",
    "    numEnt = Entry(root)\n",
    "    numEnt.grid(row=3, column=1, columnspan=2)\n",
    "\n",
    "    \n",
    "    button = Button(root,\n",
    "                   text='Compute Mortgage',\n",
    "                   command=compute)\n",
    "    button.grid(row=4, column=1, columnspan=2)\n",
    "    \n",
    "\n",
    "root = Tk()                   \n",
    "\n",
    "root.mainloop()\n",
    "\n",
    "\n"
   ]
  },
  {
   "cell_type": "code",
   "execution_count": 456,
   "metadata": {},
   "outputs": [],
   "source": []
  },
  {
   "cell_type": "markdown",
   "metadata": {},
   "source": [
    "## Question 5\n",
    "\n",
    "Write function collatz() that takes a positive integer x as input and prints the Collatz sequence starting at x. A Collatz sequence is obtained by repeatedly applying this rule to the previous number x in the sequence:\n",
    "\n",
    ">x = \n",
    ">{𝑥/2 𝑖𝑓 𝑥 𝑖𝑠 𝑒𝑣𝑒𝑛} or \n",
    ">{3𝑥 + 1 𝑖𝑓 𝑥 𝑖𝑠 𝑜𝑑d}"
   ]
  },
  {
   "cell_type": "code",
   "execution_count": null,
   "metadata": {},
   "outputs": [],
   "source": [
    "def collatz():\n",
    "    "
   ]
  },
  {
   "cell_type": "markdown",
   "metadata": {},
   "source": [
    "## Question 6\n",
    "\n",
    "Write a recursive method binary() that takes a non-negative\n",
    "integer n and prints the binary representation of integer n.\n"
   ]
  },
  {
   "cell_type": "code",
   "execution_count": null,
   "metadata": {},
   "outputs": [],
   "source": [
    "def binary(n):\n",
    "    'takes a non-negative integer n and prints the binary representation of n'\n",
    "    if n == 0: #base case\n",
    "        print(0, end=' ')\n",
    "    else: #recursive step\n",
    "        \n",
    "    "
   ]
  },
  {
   "cell_type": "markdown",
   "metadata": {},
   "source": [
    "## Question 7\n",
    "\n",
    "Implement a class named HeadingParser that can be used to parse an HTML\n",
    "document, and retrieve and print all the headings in the document. You should\n",
    "implement your class as a subclass of HTMLParser, defined in Standard Library\n",
    "module html.parser. When fed a string containing HTML code, your class should print the headings, one per line and in the order in which they appear in the\n",
    "document. Each heading should be indented as follows: an h1 heading should have\n",
    "indentation 0, and h2 heading should have indentation 1, etc. Test your\n",
    "implementation using w3c.html.\n"
   ]
  },
  {
   "cell_type": "code",
   "execution_count": null,
   "metadata": {},
   "outputs": [],
   "source": [
    "print('{}{}'.format(self.indent*' ', tag))"
   ]
  },
  {
   "cell_type": "code",
   "execution_count": 575,
   "metadata": {},
   "outputs": [
    {
     "name": "stdout",
     "output_type": "stream",
     "text": [
      "[]\n",
      "[]\n",
      "[]\n"
     ]
    },
    {
     "ename": "NameError",
     "evalue": "name 'attrs' is not defined",
     "output_type": "error",
     "traceback": [
      "\u001b[1;31m---------------------------------------------------------------------------\u001b[0m",
      "\u001b[1;31mNameError\u001b[0m                                 Traceback (most recent call last)",
      "\u001b[1;32m<ipython-input-575-60479f8e3ce1>\u001b[0m in \u001b[0;36m<module>\u001b[1;34m\u001b[0m\n\u001b[0;32m      1\u001b[0m \u001b[1;32mfrom\u001b[0m \u001b[0mhtml\u001b[0m\u001b[1;33m.\u001b[0m\u001b[0mparser\u001b[0m \u001b[1;32mimport\u001b[0m \u001b[0mHTMLParser\u001b[0m\u001b[1;33m\u001b[0m\u001b[1;33m\u001b[0m\u001b[0m\n\u001b[0;32m      2\u001b[0m \u001b[1;33m\u001b[0m\u001b[0m\n\u001b[1;32m----> 3\u001b[1;33m \u001b[1;32mclass\u001b[0m \u001b[0mHeadingParser\u001b[0m\u001b[1;33m(\u001b[0m\u001b[0mHTMLParser\u001b[0m\u001b[1;33m)\u001b[0m\u001b[1;33m:\u001b[0m\u001b[1;33m\u001b[0m\u001b[1;33m\u001b[0m\u001b[0m\n\u001b[0m\u001b[0;32m      4\u001b[0m     \u001b[1;34m'prints heading with an indentation corresponding to heading placement in doc'\u001b[0m\u001b[1;33m\u001b[0m\u001b[1;33m\u001b[0m\u001b[0m\n\u001b[0;32m      5\u001b[0m \u001b[1;33m\u001b[0m\u001b[0m\n",
      "\u001b[1;32m<ipython-input-575-60479f8e3ce1>\u001b[0m in \u001b[0;36mHeadingParser\u001b[1;34m()\u001b[0m\n\u001b[0;32m      7\u001b[0m     \u001b[0mcontent\u001b[0m \u001b[1;33m=\u001b[0m \u001b[0minfile\u001b[0m\u001b[1;33m.\u001b[0m\u001b[0mread\u001b[0m\u001b[1;33m(\u001b[0m\u001b[1;33m)\u001b[0m\u001b[1;33m\u001b[0m\u001b[1;33m\u001b[0m\u001b[0m\n\u001b[0;32m      8\u001b[0m     \u001b[0mhp\u001b[0m \u001b[1;33m=\u001b[0m \u001b[0mHeadingParser\u001b[0m\u001b[1;33m(\u001b[0m\u001b[1;33m)\u001b[0m\u001b[1;33m\u001b[0m\u001b[1;33m\u001b[0m\u001b[0m\n\u001b[1;32m----> 9\u001b[1;33m     \u001b[0mhp\u001b[0m\u001b[1;33m.\u001b[0m\u001b[0mfeed\u001b[0m\u001b[1;33m(\u001b[0m\u001b[0mcontent\u001b[0m\u001b[1;33m)\u001b[0m\u001b[1;33m\u001b[0m\u001b[1;33m\u001b[0m\u001b[0m\n\u001b[0m\u001b[0;32m     10\u001b[0m     \u001b[0minfile\u001b[0m\u001b[1;33m.\u001b[0m\u001b[0mclose\u001b[0m\u001b[1;33m(\u001b[0m\u001b[1;33m)\u001b[0m\u001b[1;33m\u001b[0m\u001b[1;33m\u001b[0m\u001b[0m\n\u001b[0;32m     11\u001b[0m \u001b[1;33m\u001b[0m\u001b[0m\n",
      "\u001b[1;32m~\\Anaconda\\lib\\html\\parser.py\u001b[0m in \u001b[0;36mfeed\u001b[1;34m(self, data)\u001b[0m\n\u001b[0;32m    109\u001b[0m         \"\"\"\n\u001b[0;32m    110\u001b[0m         \u001b[0mself\u001b[0m\u001b[1;33m.\u001b[0m\u001b[0mrawdata\u001b[0m \u001b[1;33m=\u001b[0m \u001b[0mself\u001b[0m\u001b[1;33m.\u001b[0m\u001b[0mrawdata\u001b[0m \u001b[1;33m+\u001b[0m \u001b[0mdata\u001b[0m\u001b[1;33m\u001b[0m\u001b[1;33m\u001b[0m\u001b[0m\n\u001b[1;32m--> 111\u001b[1;33m         \u001b[0mself\u001b[0m\u001b[1;33m.\u001b[0m\u001b[0mgoahead\u001b[0m\u001b[1;33m(\u001b[0m\u001b[1;36m0\u001b[0m\u001b[1;33m)\u001b[0m\u001b[1;33m\u001b[0m\u001b[1;33m\u001b[0m\u001b[0m\n\u001b[0m\u001b[0;32m    112\u001b[0m \u001b[1;33m\u001b[0m\u001b[0m\n\u001b[0;32m    113\u001b[0m     \u001b[1;32mdef\u001b[0m \u001b[0mclose\u001b[0m\u001b[1;33m(\u001b[0m\u001b[0mself\u001b[0m\u001b[1;33m)\u001b[0m\u001b[1;33m:\u001b[0m\u001b[1;33m\u001b[0m\u001b[1;33m\u001b[0m\u001b[0m\n",
      "\u001b[1;32m~\\Anaconda\\lib\\html\\parser.py\u001b[0m in \u001b[0;36mgoahead\u001b[1;34m(self, end)\u001b[0m\n\u001b[0;32m    171\u001b[0m                     \u001b[0mk\u001b[0m \u001b[1;33m=\u001b[0m \u001b[0mself\u001b[0m\u001b[1;33m.\u001b[0m\u001b[0mparse_starttag\u001b[0m\u001b[1;33m(\u001b[0m\u001b[0mi\u001b[0m\u001b[1;33m)\u001b[0m\u001b[1;33m\u001b[0m\u001b[1;33m\u001b[0m\u001b[0m\n\u001b[0;32m    172\u001b[0m                 \u001b[1;32melif\u001b[0m \u001b[0mstartswith\u001b[0m\u001b[1;33m(\u001b[0m\u001b[1;34m\"</\"\u001b[0m\u001b[1;33m,\u001b[0m \u001b[0mi\u001b[0m\u001b[1;33m)\u001b[0m\u001b[1;33m:\u001b[0m\u001b[1;33m\u001b[0m\u001b[1;33m\u001b[0m\u001b[0m\n\u001b[1;32m--> 173\u001b[1;33m                     \u001b[0mk\u001b[0m \u001b[1;33m=\u001b[0m \u001b[0mself\u001b[0m\u001b[1;33m.\u001b[0m\u001b[0mparse_endtag\u001b[0m\u001b[1;33m(\u001b[0m\u001b[0mi\u001b[0m\u001b[1;33m)\u001b[0m\u001b[1;33m\u001b[0m\u001b[1;33m\u001b[0m\u001b[0m\n\u001b[0m\u001b[0;32m    174\u001b[0m                 \u001b[1;32melif\u001b[0m \u001b[0mstartswith\u001b[0m\u001b[1;33m(\u001b[0m\u001b[1;34m\"<!--\"\u001b[0m\u001b[1;33m,\u001b[0m \u001b[0mi\u001b[0m\u001b[1;33m)\u001b[0m\u001b[1;33m:\u001b[0m\u001b[1;33m\u001b[0m\u001b[1;33m\u001b[0m\u001b[0m\n\u001b[0;32m    175\u001b[0m                     \u001b[0mk\u001b[0m \u001b[1;33m=\u001b[0m \u001b[0mself\u001b[0m\u001b[1;33m.\u001b[0m\u001b[0mparse_comment\u001b[0m\u001b[1;33m(\u001b[0m\u001b[0mi\u001b[0m\u001b[1;33m)\u001b[0m\u001b[1;33m\u001b[0m\u001b[1;33m\u001b[0m\u001b[0m\n",
      "\u001b[1;32m~\\Anaconda\\lib\\html\\parser.py\u001b[0m in \u001b[0;36mparse_endtag\u001b[1;34m(self, i)\u001b[0m\n\u001b[0;32m    419\u001b[0m                 \u001b[1;32mreturn\u001b[0m \u001b[0mgtpos\u001b[0m\u001b[1;33m\u001b[0m\u001b[1;33m\u001b[0m\u001b[0m\n\u001b[0;32m    420\u001b[0m \u001b[1;33m\u001b[0m\u001b[0m\n\u001b[1;32m--> 421\u001b[1;33m         \u001b[0mself\u001b[0m\u001b[1;33m.\u001b[0m\u001b[0mhandle_endtag\u001b[0m\u001b[1;33m(\u001b[0m\u001b[0melem\u001b[0m\u001b[1;33m)\u001b[0m\u001b[1;33m\u001b[0m\u001b[1;33m\u001b[0m\u001b[0m\n\u001b[0m\u001b[0;32m    422\u001b[0m         \u001b[0mself\u001b[0m\u001b[1;33m.\u001b[0m\u001b[0mclear_cdata_mode\u001b[0m\u001b[1;33m(\u001b[0m\u001b[1;33m)\u001b[0m\u001b[1;33m\u001b[0m\u001b[1;33m\u001b[0m\u001b[0m\n\u001b[0;32m    423\u001b[0m         \u001b[1;32mreturn\u001b[0m \u001b[0mgtpos\u001b[0m\u001b[1;33m\u001b[0m\u001b[1;33m\u001b[0m\u001b[0m\n",
      "\u001b[1;32m<ipython-input-547-b2bba0c33b11>\u001b[0m in \u001b[0;36mhandle_endtag\u001b[1;34m(self, tag)\u001b[0m\n\u001b[0;32m     23\u001b[0m         \u001b[1;32mif\u001b[0m \u001b[0mtag\u001b[0m \u001b[1;32mnot\u001b[0m \u001b[1;32min\u001b[0m \u001b[1;33m(\u001b[0m\u001b[1;34m'br'\u001b[0m\u001b[1;33m,\u001b[0m \u001b[1;34m'p'\u001b[0m\u001b[1;33m)\u001b[0m\u001b[1;33m:\u001b[0m\u001b[1;33m\u001b[0m\u001b[1;33m\u001b[0m\u001b[0m\n\u001b[0;32m     24\u001b[0m             \u001b[0mself\u001b[0m\u001b[1;33m.\u001b[0m\u001b[0mindent\u001b[0m \u001b[1;33m+=\u001b[0m \u001b[1;36m1\u001b[0m\u001b[1;33m\u001b[0m\u001b[1;33m\u001b[0m\u001b[0m\n\u001b[1;32m---> 25\u001b[1;33m             \u001b[0mprint\u001b[0m\u001b[1;33m(\u001b[0m\u001b[1;34m'{}{}'\u001b[0m\u001b[1;33m.\u001b[0m\u001b[0mformat\u001b[0m\u001b[1;33m(\u001b[0m\u001b[0mself\u001b[0m\u001b[1;33m.\u001b[0m\u001b[0mindent\u001b[0m\u001b[1;33m*\u001b[0m\u001b[1;34m' '\u001b[0m\u001b[1;33m,\u001b[0m \u001b[0mattrs\u001b[0m\u001b[1;33m)\u001b[0m\u001b[1;33m)\u001b[0m\u001b[1;33m\u001b[0m\u001b[1;33m\u001b[0m\u001b[0m\n\u001b[0m",
      "\u001b[1;31mNameError\u001b[0m: name 'attrs' is not defined"
     ]
    }
   ],
   "source": [
    "\n",
    "from html.parser import HTMLParser\n",
    "\n",
    "class HeadingParser(HTMLParser):\n",
    "    'prints heading with an indentation corresponding to heading placement in doc'\n",
    "    \n",
    "    infile = open('w3c.html')\n",
    "    content = infile.read()\n",
    "    hp = HeadingParser()\n",
    "    hp.feed(content)\n",
    "    infile.close()\n",
    "    \n",
    "    \n",
    "    def __init__(self):\n",
    "        'initiates the parser and initial indentation'\n",
    "        HeadingParser.__init__(self)\n",
    "        self.indent = 0 #initial indentation value\n",
    "        \n",
    "    \n",
    "    def attrs(self, attrs):\n",
    "        attrs = tag[1]\n",
    "    \n",
    "        \n",
    "    def handle_starttag(self, tag, attrs):\n",
    "        for attrs in tag:\n",
    "            if tag not in ('br', 'p'):\n",
    "                self.indent +=4\n",
    "                print('{}{}'.format(self.indent*' ', tag(data)))\n",
    "\n",
    "\n",
    "    def handle_endtag(self, tag):\n",
    "        for attrs in tag:\n",
    "            if tag not in ('br', 'p'):\n",
    "                self.indent -= 4\n",
    "                print('{}{}'.format(self.indent*' ', tag(data)))"
   ]
  },
  {
   "cell_type": "code",
   "execution_count": null,
   "metadata": {},
   "outputs": [],
   "source": [
    "\n",
    "from html.parser import HTMLParser\n",
    "\n",
    "class HeadingParser(HTMLParser):\n",
    "    'prints heading with an indentation corresponding to heading placement in doc'\n",
    "    \n",
    "    infile = open('w3c.html')\n",
    "    content = infile.read()\n",
    "    hp = HeadingParser()\n",
    "    hp.feed(content)\n",
    "    infile.close()\n",
    "    \n",
    "    def __init__(self):\n",
    "        "
   ]
  },
  {
   "cell_type": "markdown",
   "metadata": {},
   "source": [
    "## Question 8\n",
    "\n",
    "Implement recursive function webdir() that takes as input: a URL (as a string) and\n",
    "non-negative integers depth and indent. Your function should visit every web\n",
    "page reachable from the starting URL web page in depth clicks or less, and print\n",
    "each web page's URL. As shown below, indentation, specified by indent, should\n",
    "be used to indicate the depth of a URL.\n"
   ]
  },
  {
   "cell_type": "code",
   "execution_count": 683,
   "metadata": {
    "scrolled": true
   },
   "outputs": [
    {
     "name": "stdout",
     "output_type": "stream",
     "text": [
      "\n",
      "\n",
      "Visiting http://www.twitter.com\n"
     ]
    },
    {
     "ename": "TypeError",
     "evalue": "__init__() takes 1 positional argument but 2 were given",
     "output_type": "error",
     "traceback": [
      "\u001b[1;31m---------------------------------------------------------------------------\u001b[0m",
      "\u001b[1;31mTypeError\u001b[0m                                 Traceback (most recent call last)",
      "\u001b[1;32m<ipython-input-683-c861f8b28c7b>\u001b[0m in \u001b[0;36m<module>\u001b[1;34m\u001b[0m\n\u001b[0;32m     58\u001b[0m \u001b[1;33m\u001b[0m\u001b[0m\n\u001b[0;32m     59\u001b[0m \u001b[1;33m\u001b[0m\u001b[0m\n\u001b[1;32m---> 60\u001b[1;33m \u001b[0mwebdir\u001b[0m\u001b[1;33m(\u001b[0m\u001b[1;34m\"http://www.twitter.com\"\u001b[0m\u001b[1;33m)\u001b[0m\u001b[1;33m\u001b[0m\u001b[1;33m\u001b[0m\u001b[0m\n\u001b[0m",
      "\u001b[1;32m<ipython-input-683-c861f8b28c7b>\u001b[0m in \u001b[0;36mwebdir\u001b[1;34m(url)\u001b[0m\n\u001b[0;32m     25\u001b[0m     \u001b[1;31m#obtain links in webpage\u001b[0m\u001b[1;33m\u001b[0m\u001b[1;33m\u001b[0m\u001b[1;33m\u001b[0m\u001b[0m\n\u001b[0;32m     26\u001b[0m     \u001b[0mcontent\u001b[0m \u001b[1;33m=\u001b[0m \u001b[0murlopen\u001b[0m\u001b[1;33m(\u001b[0m\u001b[0murl\u001b[0m\u001b[1;33m)\u001b[0m\u001b[1;33m.\u001b[0m\u001b[0mread\u001b[0m\u001b[1;33m(\u001b[0m\u001b[1;33m)\u001b[0m\u001b[1;33m\u001b[0m\u001b[1;33m\u001b[0m\u001b[0m\n\u001b[1;32m---> 27\u001b[1;33m     \u001b[0mcollector\u001b[0m \u001b[1;33m=\u001b[0m \u001b[0mCollector\u001b[0m\u001b[1;33m(\u001b[0m\u001b[0murl\u001b[0m\u001b[1;33m)\u001b[0m\u001b[1;33m\u001b[0m\u001b[1;33m\u001b[0m\u001b[0m\n\u001b[0m\u001b[0;32m     28\u001b[0m     \u001b[0mcollector\u001b[0m\u001b[1;33m.\u001b[0m\u001b[0mfeed\u001b[0m\u001b[1;33m(\u001b[0m\u001b[0mcontent\u001b[0m\u001b[1;33m)\u001b[0m\u001b[1;33m\u001b[0m\u001b[1;33m\u001b[0m\u001b[0m\n\u001b[0;32m     29\u001b[0m     \u001b[0murls\u001b[0m \u001b[1;33m=\u001b[0m \u001b[0mcollector\u001b[0m\u001b[1;33m.\u001b[0m\u001b[0mgetLinks\u001b[0m\u001b[1;33m(\u001b[0m\u001b[1;33m)\u001b[0m \u001b[1;31m#get list of links\u001b[0m\u001b[1;33m\u001b[0m\u001b[1;33m\u001b[0m\u001b[0m\n",
      "\u001b[1;31mTypeError\u001b[0m: __init__() takes 1 positional argument but 2 were given"
     ]
    }
   ],
   "source": [
    "\n",
    "from html.parser import HTMLParser\n",
    "    \n",
    "\n",
    "\n",
    "def crawl(url):\n",
    "    'takes a URL and its non-negative integers depth and indentation as input'\n",
    "    \n",
    "    links = webdir(url)\n",
    "    for link in links:\n",
    "        try:\n",
    "            webdir(link)\n",
    "        except:\n",
    "            pass\n",
    "        \n",
    "\n",
    "\n",
    "    \n",
    "def webdir(url):\n",
    "    'returns list of http links in url, in absolute format'\n",
    "\n",
    "    print('\\n\\nVisiting', url) #for testing\n",
    "    \n",
    "    from urllib.request import urlopen\n",
    "    \n",
    "    #obtain links in webpage\n",
    "    content = urlopen(url).read()\n",
    "    collector = Collector(url)\n",
    "    collector.feed(content)\n",
    "    urls = collector.getLinks() #get list of links\n",
    "    \n",
    "    indent == 0\n",
    "    print('\\n{} (:45) (:10)'. format('URL', 'link'))\n",
    "    for links in urls:\n",
    "        print('\\n{} [:45] [:10]'.format(indent*' ', url, link))\n",
    "        indent += 1\n",
    "        \n",
    "    return urls\n",
    "\n",
    "\n",
    "\n",
    "visited = set()\n",
    "\n",
    "def crawl2(url):\n",
    "    'a recursive webcrawler that calls webdir() on every visited webpage'\n",
    "        \n",
    "    #add url to set visited\n",
    "    global visited\n",
    "    visited.add(url)\n",
    "    \n",
    "    links = webdir(url)\n",
    "    for link in links:\n",
    "        if link not in visited:\n",
    "            try:\n",
    "                crawl2(link)\n",
    "            except:\n",
    "                pass\n",
    "\n",
    "                \n",
    "                \n",
    "webdir(\"http://www.twitter.com\")"
   ]
  },
  {
   "cell_type": "code",
   "execution_count": 687,
   "metadata": {},
   "outputs": [],
   "source": []
  },
  {
   "cell_type": "markdown",
   "metadata": {},
   "source": [
    "## Question 9\n",
    "\n",
    "Write SQL queries for the questions in the database given table that return the following:\n",
    "\n",
    "**_Database Table name = table_**"
   ]
  },
  {
   "cell_type": "markdown",
   "metadata": {},
   "source": [
    "## Question 9a\n",
    "\n",
    "All of the Temperature data\n",
    "\n"
   ]
  },
  {
   "cell_type": "code",
   "execution_count": null,
   "metadata": {},
   "outputs": [],
   "source": [
    "#SELECT Temperature(C) FROM table\n",
    "\n",
    "column = 'Temperature(C)'\n",
    "cur.execute('SELECT ? FROM table', (column,))\n",
    "cur.fetchall()"
   ]
  },
  {
   "cell_type": "markdown",
   "metadata": {},
   "source": [
    "## Question 9b\n",
    "\n",
    "All of the cities, without repetition."
   ]
  },
  {
   "cell_type": "code",
   "execution_count": null,
   "metadata": {},
   "outputs": [],
   "source": [
    "#SELECT DISTINCT City FROM table\n",
    "\n",
    "column = 'City'\n",
    "cur.execute('SELECT DISTINCT ? FROM table', column,))\n",
    "cur.fetchall()"
   ]
  },
  {
   "cell_type": "markdown",
   "metadata": {},
   "source": [
    "## Question 9c\n",
    "\n",
    "All of the records for India"
   ]
  },
  {
   "cell_type": "code",
   "execution_count": null,
   "metadata": {},
   "outputs": [],
   "source": [
    "#SELECT * FROM table\n",
    "#WHERE Country = 'India'\n",
    "\n",
    "column, Country = 'Country', 'India'\n",
    "cur.execute('SELECT * FROM table WHERE ? = ?',  column, Country)\n",
    "cur.fetchall()"
   ]
  },
  {
   "cell_type": "markdown",
   "metadata": {},
   "source": [
    "## Question 9d\n",
    "\n",
    "All of the Fall records"
   ]
  },
  {
   "cell_type": "code",
   "execution_count": null,
   "metadata": {},
   "outputs": [],
   "source": [
    "#SELECT * FROM table\n",
    "#WHERE Season = 'Fall'\n",
    "\n",
    "column, Season = 'Season', 'Fall'\n",
    "cur.execute('SELET * FROM table WHERE ? = ?', column, Season)\n",
    "cur.fetchall()"
   ]
  },
  {
   "cell_type": "markdown",
   "metadata": {},
   "source": [
    "## Question 9e\n",
    "The city, country and season for which the average rainfall is between 200mm and 400 mm"
   ]
  },
  {
   "cell_type": "code",
   "execution_count": null,
   "metadata": {},
   "outputs": [],
   "source": [
    "#SELECT City, Country, Season FROM table\n",
    "#WHERE Rainfall(mm) BETWEEN 200 AND 400\n",
    "\n",
    "column, n1, n2 = 'Rainfall(mm)', '200', '400'\n",
    "cur.execute('SELECT City, Country, Season FROM table WHERE ? BETWEEN ? AND ?', column, n1, n2)\n",
    "cur.fetchall()"
   ]
  },
  {
   "cell_type": "markdown",
   "metadata": {},
   "source": [
    "## Question 9f\n",
    "\n",
    "The city and country for which the average fall temperature is above 20 degrees celcius, in increasing temperature order"
   ]
  },
  {
   "cell_type": "code",
   "execution_count": null,
   "metadata": {},
   "outputs": [],
   "source": [
    "#SELECT City, Country FROM table\n",
    "#WHERE Temperature(C) > 20\n",
    "#ORDER BY Temperature(C) ASC\n",
    "\n",
    "column, tmp, order = 'Temperature(C)', '20', 'ASC'\n",
    "cur.execute('SELECT City, Country FROM table WHERE ? > ? ORDER BY ?', column, tmp, order)\n",
    "cur.fetchall()\n"
   ]
  },
  {
   "cell_type": "markdown",
   "metadata": {},
   "source": [
    "## Question 9g\n",
    "\n",
    "Total annual Rainfall for Cairo"
   ]
  },
  {
   "cell_type": "code",
   "execution_count": null,
   "metadata": {},
   "outputs": [],
   "source": [
    "#SELECT SUM(Rainfall(mm)) FROM table\n",
    "#WHERE City = 'Cairo'\n",
    "\n",
    "column, city = 'City', 'Cairo'\n",
    "cur.execute('SELECT SUM(Rainfall(mm)) FROM table WHERE ? = ?', column, city)\n",
    "cur.fetchall()"
   ]
  },
  {
   "cell_type": "markdown",
   "metadata": {},
   "source": [
    "## Question 9h\n",
    "\n",
    "The total Rainfall for each season"
   ]
  },
  {
   "cell_type": "code",
   "execution_count": null,
   "metadata": {},
   "outputs": [],
   "source": [
    "#SELECT SUM(Rainfall(mm)) FROM table\n",
    "#GROUPBY Season\n",
    "\n",
    "column = Season\n",
    "cur.execute('SELECT SUM(Rainfall(mm)) FROM table GROUPBY ?', column)\n",
    "cur.fetchall()"
   ]
  },
  {
   "cell_type": "markdown",
   "metadata": {},
   "source": [
    "## Question 10\n",
    "\n",
    "list 'words' = ['The', 'quick', 'brown', 'fox', 'jumps', 'over', 'the', 'lazy', 'dog']\n"
   ]
  },
  {
   "cell_type": "markdown",
   "metadata": {},
   "source": [
    "## Question 10a"
   ]
  },
  {
   "cell_type": "code",
   "execution_count": 763,
   "metadata": {},
   "outputs": [
    {
     "name": "stdout",
     "output_type": "stream",
     "text": [
      "['THE', 'QUICK', 'BROWN', 'FOX', 'JUMPS', 'OVER', 'THE', 'LAZY', 'DOG']\n"
     ]
    }
   ],
   "source": [
    "words = ['The', 'quick', 'brown', 'fox', 'jumps', 'over', 'the', 'lazy', 'dog']\n",
    "\n",
    "wa = [words.upper() for words in words]\n",
    "print(wa)\n",
    "        "
   ]
  },
  {
   "cell_type": "markdown",
   "metadata": {},
   "source": [
    "## Question 10b"
   ]
  },
  {
   "cell_type": "code",
   "execution_count": 764,
   "metadata": {},
   "outputs": [
    {
     "name": "stdout",
     "output_type": "stream",
     "text": [
      "['the', 'quick', 'brown', 'fox', 'jumps', 'over', 'the', 'lazy', 'dog']\n"
     ]
    }
   ],
   "source": [
    "words = ['The', 'quick', 'brown', 'fox', 'jumps', 'over', 'the', 'lazy', 'dog']\n",
    "\n",
    "wb = [words.lower() for words in words]\n",
    "print(wb)\n"
   ]
  },
  {
   "cell_type": "markdown",
   "metadata": {},
   "source": [
    "## Question 10c"
   ]
  },
  {
   "cell_type": "code",
   "execution_count": 714,
   "metadata": {},
   "outputs": [
    {
     "name": "stdout",
     "output_type": "stream",
     "text": [
      "[3, 5, 5, 3, 5, 4, 3, 4, 3]\n"
     ]
    }
   ],
   "source": [
    "words = ['The', 'quick', 'brown', 'fox', 'jumps', 'over', 'the', 'lazy', 'dog']\n",
    "\n",
    "wc = [len(word) for word in words]\n",
    "print(wc)"
   ]
  },
  {
   "cell_type": "markdown",
   "metadata": {},
   "source": [
    "## Question 10d"
   ]
  },
  {
   "cell_type": "code",
   "execution_count": 6,
   "metadata": {},
   "outputs": [],
   "source": [
    "words = ['The', 'quick', 'brown', 'fox', 'jumps', 'over', 'the', 'lazy', 'dog']\n",
    "\n",
    "def partition(intermediate1):\n",
    "    #implementation\n",
    "    smr = SeqMapReduce(occurence, occurenceCount)\n",
    "    smr.process(words)\n",
    "\n",
    "class SeqMapReduce(object):\n",
    "    'a sequential map reduce implementation'\n",
    "    \n",
    "    def __init__(self, mapper, reducer):\n",
    "        'functioncs are problem specific'\n",
    "        self.mapper = mapper\n",
    "        self.reducer = reducer\n",
    "        \n",
    "    def process(self, data):\n",
    "        'runs mapreduce on data with mapper and reducer functions'\n",
    "        intermediate1 = [self.mapper (x) for x in data]\n",
    "        intermediate2 = partition(intermediate1)\n",
    "        return [self.reducer(x) for x in intermediate2]\n",
    "    \n"
   ]
  },
  {
   "cell_type": "code",
   "execution_count": null,
   "metadata": {},
   "outputs": [],
   "source": []
  },
  {
   "cell_type": "markdown",
   "metadata": {},
   "source": [
    "## Question 10e"
   ]
  },
  {
   "cell_type": "code",
   "execution_count": 115,
   "metadata": {},
   "outputs": [],
   "source": [
    "words = ['The', 'quick', 'brown', 'fox', 'jumps', 'over', 'the', 'lazy', 'dog']\n"
   ]
  },
  {
   "cell_type": "code",
   "execution_count": null,
   "metadata": {},
   "outputs": [],
   "source": []
  },
  {
   "cell_type": "code",
   "execution_count": null,
   "metadata": {},
   "outputs": [],
   "source": []
  }
 ],
 "metadata": {
  "kernelspec": {
   "display_name": "Python 3",
   "language": "python",
   "name": "python3"
  },
  "language_info": {
   "codemirror_mode": {
    "name": "ipython",
    "version": 3
   },
   "file_extension": ".py",
   "mimetype": "text/x-python",
   "name": "python",
   "nbconvert_exporter": "python",
   "pygments_lexer": "ipython3",
   "version": "3.8.3"
  }
 },
 "nbformat": 4,
 "nbformat_minor": 4
}
